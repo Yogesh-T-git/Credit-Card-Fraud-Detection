{
 "cells": [
  {
   "cell_type": "markdown",
   "metadata": {},
   "source": [
    "# Hello Jupyter"
   ]
  },
  {
   "cell_type": "code",
   "execution_count": 11,
   "metadata": {},
   "outputs": [],
   "source": [
    "import numpy as num\n",
    "import pandas as pd"
   ]
  },
  {
   "cell_type": "code",
   "execution_count": 12,
   "metadata": {},
   "outputs": [],
   "source": [
    "import csv"
   ]
  },
  {
   "cell_type": "code",
   "execution_count": 13,
   "metadata": {},
   "outputs": [],
   "source": [
    "def updateHypothesis(x, h):\n",
    "    if h == []:\n",
    "        return x\n",
    "\n",
    "    for i in range(0, len(h)):\n",
    "        if x[i].upper() !=  h[i].upper():\n",
    "            h[i] = '?'\n",
    "\n",
    "    return h"
   ]
  },
  {
   "cell_type": "code",
   "execution_count": 14,
   "metadata": {},
   "outputs": [
    {
     "name": "stdout",
     "output_type": "stream",
     "text": [
      "Data: \n",
      "['sky\\tair temp\\thumidity\\twind\\twater\\tforecast\\tenjoy sport']\n",
      "['sunny\\twarm\\tnormal\\tstrong\\twarm\\tsame\\tyes']\n",
      "['sunny\\twarm\\thigh\\tstrong\\twarm\\tsame\\tyes']\n",
      "['rainy\\tcold\\thigh\\tstrong\\twarm\\tchange\\tno']\n",
      "['sunny\\twarm\\thigh\\tstrong\\tcool\\tchange\\tyes']\n",
      "\n",
      "Hypothesis:  []\n"
     ]
    }
   ],
   "source": [
    "data = []\n",
    "h = []\n",
    "\n",
    "with open('data.csv', 'r') as file:\n",
    "    reader = csv.reader(file)\n",
    "    print(\"Data: \")\n",
    "    for row in reader:\n",
    "        data.append(row)\n",
    "        print(row)\n",
    "\n",
    "if data:\n",
    "    for x in data:\n",
    "        if x[-1].upper() == \"YES\":\n",
    "            x.pop() # removing last field\n",
    "            h = updateHypothesis(x, h)\n",
    "\n",
    "print(\"\\nHypothesis: \", h)"
   ]
  }
 ],
 "metadata": {
  "interpreter": {
   "hash": "4f3b078249380ea762697f4f8f6aea77b3d6e43cbb1b18cbb73d8cde5aa597e7"
  },
  "kernelspec": {
   "display_name": "Python 3.9.6 64-bit (system)",
   "language": "python",
   "name": "python3"
  },
  "language_info": {
   "codemirror_mode": {
    "name": "ipython",
    "version": 3
   },
   "file_extension": ".py",
   "mimetype": "text/x-python",
   "name": "python",
   "nbconvert_exporter": "python",
   "pygments_lexer": "ipython3",
   "version": "3.10.4"
  },
  "orig_nbformat": 4
 },
 "nbformat": 4,
 "nbformat_minor": 2
}
